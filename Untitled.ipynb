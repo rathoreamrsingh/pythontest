{
 "cells": [
  {
   "cell_type": "code",
   "execution_count": 2,
   "metadata": {},
   "outputs": [],
   "source": [
    "import tweepy\n",
    "from tweepy.streaming import StreamListener\n",
    "from textblob import TextBlob\n",
    "import csv"
   ]
  },
  {
   "cell_type": "code",
   "execution_count": 7,
   "metadata": {},
   "outputs": [],
   "source": [
    "consumer_key='zZWPaXgIgmohaSfFOM8U8xMu1'\n",
    "consumer_secret='6qMhIv4LUMKYw9JRn386AxudWQCN6NWGQ5WgOiiuDn2csTYq8D'\n",
    "\n",
    "access_token='2264037373-So8YG6aVSLKgHaNGVGKoiaK3yJBxphunxgkY0Qd'\n",
    "access_token_secret='eJ0rzDnqhOZ5O1uQFVOaszEhM3SAASaa9OybbYGLpVQjg'\n",
    "\n",
    "auth = tweepy.OAuthHandler(consumer_key, consumer_secret)\n",
    "auth.set_access_token(access_token, access_token_secret)"
   ]
  },
  {
   "cell_type": "code",
   "execution_count": 19,
   "metadata": {},
   "outputs": [
    {
     "name": "stdout",
     "output_type": "stream",
     "text": [
      "INSERT INTO twitter_sentimental_analysis (company_code, tweet, polarity, subjectivity) values ('AMZN','RT @buzzindelhi: #AI4India :: ⁦@iitbhuglobal⁩ to setup a CoE for AI Research and Capacity building in collaboration with AWS to solve chall…',0.0,0.0);\n",
      "INSERT INTO twitter_sentimental_analysis (company_code, tweet, polarity, subjectivity) values ('AMZN','RT @buzzindelhi: #AI4India :: ⁦@iitbhuglobal⁩ to setup a CoE for AI Research and Capacity building in collaboration with AWS to solve chall…',0.0,0.0);\n",
      "INSERT INTO twitter_sentimental_analysis (company_code, tweet, polarity, subjectivity) values ('AMZN','Worldskills Ireland delighted to be invited to the Amazon Web Services launch after organising and hosting the firs… https://t.co/Fq389RFpPM',0.7,0.7);\n",
      "INSERT INTO twitter_sentimental_analysis (company_code, tweet, polarity, subjectivity) values ('AMZN','RT @TransformGov: Congrats to Alliance members City of Centennial Government, City of Las Vegas Government, and City of Salinas for being s…',0.0,0.0);\n",
      "INSERT INTO twitter_sentimental_analysis (company_code, tweet, polarity, subjectivity) values ('AMZN','RT @tecsocoop: Buscamos DevOps para sumarse a una empresa de gestión abierta\n",
      "✅Con experiencia en soluciones basadas en Amazon Web Services…',0.0,0.0);\n",
      "INSERT INTO twitter_sentimental_analysis (company_code, tweet, polarity, subjectivity) values ('AMZN','Looking forward to hearing CEO @NithyaRamanath1 speak at AWS\\' Public Sector Summit this week! Additional thank you… https://t.co/p3mTWmLos2',0.0,0.06666666666666667);\n",
      "INSERT INTO twitter_sentimental_analysis (company_code, tweet, polarity, subjectivity) values ('AMZN','Cloud Computing: Web-based Dynamic It Services  https://t.co/n0fD7ZvMk9 #hadoop @machinelearnflx',0.0,0.16666666666666666);\n",
      "INSERT INTO twitter_sentimental_analysis (company_code, tweet, polarity, subjectivity) values ('AMZN','Amazon Web Services (#AWS) certifications are the highest paying in North America, earning an avg, salary of $113,2… https://t.co/2RG7rWpZX0',0.0,0.0);\n",
      "INSERT INTO twitter_sentimental_analysis (company_code, tweet, polarity, subjectivity) values ('AMZN','IIT (BHU) Signs MoU With Amazon Web Services Education Program https://t.co/oSM0kcU8QB',0.0,0.0);\n",
      "INSERT INTO twitter_sentimental_analysis (company_code, tweet, polarity, subjectivity) values ('AMZN','RT @buzzindelhi: #AI4India :: ⁦@iitbhuglobal⁩ to setup a CoE for AI Research and Capacity building in collaboration with AWS to solve chall…',0.0,0.0);\n",
      "INSERT INTO twitter_sentimental_analysis (company_code, tweet, polarity, subjectivity) values ('AMZN','Join Amazon Web Services and Plutora in a joint presentation on managing test environments and transitioning them t… https://t.co/2OxVfKSSxM',0.0,0.0);\n",
      "INSERT INTO twitter_sentimental_analysis (company_code, tweet, polarity, subjectivity) values ('AMZN','RT @SSI_TeamUS: Top 5 #Cloud Trends from #AWS in 2018 [Infographic]\n",
      "https://t.co/kuvwykh5WC\n",
      "\n",
      "#Amazon #Serverless #ML #AI #BigData &gt;&gt; via @S…',0.5,0.5);\n",
      "INSERT INTO twitter_sentimental_analysis (company_code, tweet, polarity, subjectivity) values ('AMZN','RT @SSI_TeamUS: Top 5 #Cloud Trends from #AWS in 2018 [Infographic]\n",
      "https://t.co/kuvwykh5WC\n",
      "\n",
      "#Amazon #Serverless #ML #AI #BigData &gt;&gt; via @S…',0.5,0.5);\n",
      "INSERT INTO twitter_sentimental_analysis (company_code, tweet, polarity, subjectivity) values ('AMZN','RT @Ppoutonnet: .@anacondainc state of data Science survey states that @googlecloud data services outrank those of Amazon Web Services (AWS…',0.0,0.0);\n",
      "INSERT INTO twitter_sentimental_analysis (company_code, tweet, polarity, subjectivity) values ('AMZN','RT @SSI_TeamUS: Top 5 #Cloud Trends from #AWS in 2018 [Infographic]\n",
      "https://t.co/kuvwykh5WC\n",
      "\n",
      "#Amazon #Serverless #ML #AI #BigData &gt;&gt; via @S…',0.5,0.5);\n"
     ]
    }
   ],
   "source": [
    "api = tweepy.API(auth)\n",
    "public_tweets = api.search('amazon web services')\n",
    "for tweet in public_tweets:\n",
    "    #print('======================================')\n",
    "    #print(tweet.text)\n",
    "    analysis = TextBlob(tweet.text)\n",
    "    #print(analysis.sentiment) \n",
    "    #print(analysis.sentiment.polarity) \n",
    "    #print(analysis.sentiment.subjectivity)\n",
    "    #print('======================================')\n",
    "    print(\"INSERT INTO twitter_sentimental_analysis (company_code, tweet, polarity, subjectivity) values (\" +\"'AMZN'\"+ \",'\"+tweet.text.replace(\"\\'\", \"\\\\'\")+\"',\" +str(analysis.sentiment.polarity) +\",\"+str(analysis.sentiment.subjectivity) + \");\")"
   ]
  }
 ],
 "metadata": {
  "kernelspec": {
   "display_name": "Python 3",
   "language": "python",
   "name": "python3"
  },
  "language_info": {
   "codemirror_mode": {
    "name": "ipython",
    "version": 3
   },
   "file_extension": ".py",
   "mimetype": "text/x-python",
   "name": "python",
   "nbconvert_exporter": "python",
   "pygments_lexer": "ipython3",
   "version": "3.6.5"
  }
 },
 "nbformat": 4,
 "nbformat_minor": 2
}
